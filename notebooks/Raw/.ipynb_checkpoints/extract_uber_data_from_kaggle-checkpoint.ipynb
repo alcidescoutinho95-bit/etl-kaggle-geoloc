{
 "cells": [
  {
   "cell_type": "markdown",
   "id": "22adab80-37be-4565-a1c9-5df475bf395b",
   "metadata": {},
   "source": [
    "# Kaggle"
   ]
  },
  {
   "cell_type": "code",
   "execution_count": 1,
   "id": "823d6763-7a0e-4d3c-a231-392758f422f9",
   "metadata": {},
   "outputs": [
    {
     "name": "stdout",
     "output_type": "stream",
     "text": [
      "Warning: Your Kaggle API key is readable by other users on this system! To fix this, you can run 'chmod 600 /user/.kaggle/kaggle.json'\n"
     ]
    }
   ],
   "source": [
    "from datetime import datetime\n",
    "import os\n",
    "from kaggle.api.kaggle_api_extended import KaggleApi\n",
    "import time \n",
    "from minio import Minio\n",
    "import tempfile\n",
    "import zipfile\n",
    "import os\n",
    "import requests\n",
    "import sys\n"
   ]
  },
  {
   "cell_type": "code",
   "execution_count": 2,
   "id": "ab67964e-30a1-46b2-989b-0b24b2469050",
   "metadata": {},
   "outputs": [],
   "source": [
    "def LeituraAPI(folder_name:str, source: str, bucket: str = \"raw\"):\n",
    "    start = time.time()\n",
    "    \n",
    "    # Autenticação Kaggle\n",
    "    os.environ['KAGGLE_CONFIG_DIR'] = '/home/user/.kaggle'\n",
    "    api = KaggleApi()\n",
    "    api.authenticate()\n",
    "    print(\"✅ Autenticação Kaggle bem-sucedida\")\n",
    "\n",
    "    \n",
    "    client = Minio(\n",
    "    \"minio:9000\",\n",
    "    access_key=\"minio\",\n",
    "    secret_key=\"minio123\",\n",
    "    secure=False\n",
    "    )\n",
    "    bucket = \"raw\"\n",
    "    minio_path = f\"{folder_name}/uber-pickups-in-new-york-city.zip\"\n",
    "    \n",
    "    with tempfile.TemporaryDirectory() as temp_dir:\n",
    "        print(f\"Baixando dataset '{source}' para '{temp_dir}'...\")\n",
    "        api.dataset_download_files(source, path=temp_dir, unzip=False)\n",
    "        arquivos = os.listdir(temp_dir)\n",
    "        zip_files = [f for f in arquivos if f.endswith(\".zip\")]\n",
    "\n",
    "        if not zip_files:\n",
    "            raise FileNotFoundError(\"Nenhum arquivo .zip foi encontrado no diretório temporário.\")\n",
    "\n",
    "        zip_path = os.path.join(temp_dir, zip_files[0])\n",
    "        print(f\"Arquivo ZIP encontrado: {zip_path}\")\n",
    "\n",
    "        # ✅ Criar bucket se ainda não existir\n",
    "        if not client.bucket_exists(bucket):\n",
    "            client.make_bucket(bucket)\n",
    "            \n",
    "        print(f\"Baixando dataset '{source}' para minio...\")\n",
    "        # Fazer upload para o MinIO\n",
    "        client.fput_object(\n",
    "            bucket_name=bucket,\n",
    "            object_name=minio_path,\n",
    "            file_path=zip_path,\n",
    "            content_type=\"application/zip\"\n",
    "        )\n",
    "\n",
    "        print(f\"Zip carregado no minio com sucesso.\")\n",
    "    end = time.time()\n",
    "    print(f\"⏱️ Processo de acesso a API e salvamento dos dados em diretório local levou {end - start:.2f} segundos.\")\n",
    "    return print(\"✅ Processo finalizado\")"
   ]
  },
  {
   "cell_type": "code",
   "execution_count": 3,
   "id": "98e3c62d-5cd5-4ecd-82fa-5702f2fa64d9",
   "metadata": {
    "tags": []
   },
   "outputs": [
    {
     "name": "stdout",
     "output_type": "stream",
     "text": [
      "Warning: Your Kaggle API key is readable by other users on this system! To fix this, you can run 'chmod 600 /user/.kaggle/kaggle.json'\n",
      "✅ Autenticação Kaggle bem-sucedida\n",
      "Baixando dataset 'fivethirtyeight/uber-pickups-in-new-york-city' para '/tmp/tmpvmxdwfh4'...\n",
      "Dataset URL: https://www.kaggle.com/datasets/fivethirtyeight/uber-pickups-in-new-york-city\n",
      "Arquivo ZIP encontrado: /tmp/tmpvmxdwfh4/uber-pickups-in-new-york-city.zip\n",
      "Baixando dataset 'fivethirtyeight/uber-pickups-in-new-york-city' para minio...\n",
      "Zip carregado no minio com sucesso.\n",
      "⏱️ Processo de acesso a API e salvamento dos dados em diretório local levou 6.10 segundos.\n",
      "✅ Processo finalizado\n"
     ]
    }
   ],
   "source": [
    "folder_name = 'raw_uber_dataset'\n",
    "source = 'fivethirtyeight/uber-pickups-in-new-york-city'\n",
    "LeituraAPI(folder_name=folder_name, source=source)"
   ]
  }
 ],
 "metadata": {
  "kernelspec": {
   "display_name": "Python 3 (ipykernel)",
   "language": "python",
   "name": "python3"
  },
  "language_info": {
   "codemirror_mode": {
    "name": "ipython",
    "version": 3
   },
   "file_extension": ".py",
   "mimetype": "text/x-python",
   "name": "python",
   "nbconvert_exporter": "python",
   "pygments_lexer": "ipython3",
   "version": "3.10.8"
  }
 },
 "nbformat": 4,
 "nbformat_minor": 5
}
