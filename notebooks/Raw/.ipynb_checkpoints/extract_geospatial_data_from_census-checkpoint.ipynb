{
 "cells": [
  {
   "cell_type": "code",
   "execution_count": 1,
   "id": "93830164-4f70-405c-99f9-aa1991e5cd25",
   "metadata": {},
   "outputs": [],
   "source": [
    "from minio import Minio\n",
    "import tempfile\n",
    "import zipfile\n",
    "import os\n",
    "import requests\n",
    "import sys"
   ]
  },
  {
   "cell_type": "code",
   "execution_count": 2,
   "id": "31bfcb85-55f4-4f6d-847d-5081d7347fc4",
   "metadata": {},
   "outputs": [
    {
     "name": "stdout",
     "output_type": "stream",
     "text": [
      "Baixando arquivo: https://www2.census.gov/geo/tiger/TIGER2023/COUNTY/tl_2023_us_county.zip\n",
      "📁 Arquivo salvo temporariamente em: /tmp/tmpezjjb8b9/shapefile.zip\n",
      "✅ Enviado para MinIO: s3://raw/geospatial/tl_2023_us_county.zip\n"
     ]
    }
   ],
   "source": [
    "url = \"https://www2.census.gov/geo/tiger/TIGER2023/COUNTY/tl_2023_us_county.zip\"\n",
    "\n",
    "client = Minio(\n",
    "    \"minio:9000\",\n",
    "    access_key=\"minio\",\n",
    "    secret_key=\"minio123\",\n",
    "    secure=False\n",
    ")\n",
    "bucket = \"raw\"\n",
    "minio_path = \"geospatial/tl_2023_us_county.zip\"\n",
    "\n",
    "# Faz o download e envia para o MinIO\n",
    "with tempfile.TemporaryDirectory() as tmp_dir:\n",
    "    # Definir o caminho do diretório temporário que o arquivo deve ser enviado.\n",
    "    local_path = os.path.join(tmp_dir, \"shapefile.zip\") \n",
    "    # Baixa da URL\n",
    "    print(f\"Baixando arquivo: {url}\")\n",
    "    response = requests.get(url)\n",
    "    response.raise_for_status()\n",
    "    with open(local_path, \"wb\") as f:\n",
    "        # Escrever no diretório temporário os dados baixados.\n",
    "        f.write(response.content)\n",
    "    \n",
    "    print(f\"📁 Arquivo salvo temporariamente em: {local_path}\")\n",
    "\n",
    "    # Envia para MinIO\n",
    "    client.fput_object(bucket, minio_path, local_path)\n",
    "    print(f\"✅ Enviado para MinIO: s3://{bucket}/{minio_path}\")\n"
   ]
  }
 ],
 "metadata": {
  "kernelspec": {
   "display_name": "Python 3 (ipykernel)",
   "language": "python",
   "name": "python3"
  },
  "language_info": {
   "codemirror_mode": {
    "name": "ipython",
    "version": 3
   },
   "file_extension": ".py",
   "mimetype": "text/x-python",
   "name": "python",
   "nbconvert_exporter": "python",
   "pygments_lexer": "ipython3",
   "version": "3.10.8"
  }
 },
 "nbformat": 4,
 "nbformat_minor": 5
}
