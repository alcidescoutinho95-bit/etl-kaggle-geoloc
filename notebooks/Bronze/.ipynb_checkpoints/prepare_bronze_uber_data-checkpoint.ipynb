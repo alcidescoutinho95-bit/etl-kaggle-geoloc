{
 "cells": [
  {
   "cell_type": "markdown",
   "id": "ca5b82d3-0832-4920-96e7-94de42385278",
   "metadata": {},
   "source": [
    "# Import libraries and create spark session"
   ]
  },
  {
   "cell_type": "code",
   "execution_count": 2,
   "id": "b41348cd-b062-446d-8c0a-b4bb117eaf29",
   "metadata": {},
   "outputs": [],
   "source": [
    "# Garantindo a importação da biblioteca spark.\n",
    "import sys\n",
    "if \"/home/user\" not in sys.path:\n",
    "    sys.path.append(\"/home/user\")\n",
    "from src.spark_session import create_spark_session\n",
    "spark = create_spark_session()\n",
    "\n",
    "# Importação das outras bibliotecas\n",
    "from datetime import datetime\n",
    "from minio import Minio\n",
    "import tempfile\n",
    "import time\n",
    "import zipfile\n",
    "import io\n",
    "import os"
   ]
  },
  {
   "cell_type": "code",
   "execution_count": 3,
   "id": "7d678546-1234-4d90-a7a0-123c0717ae0d",
   "metadata": {},
   "outputs": [],
   "source": [
    "def DataFrameGenerator(zip_path: str, bucket: str, project_name: str):\n",
    "    start = time.time()\n",
    "    \n",
    "    client = Minio(\n",
    "        \"minio:9000\",\n",
    "        access_key=\"minio\",\n",
    "        secret_key=\"minio123\",\n",
    "        secure=False\n",
    "        )\n",
    "    \n",
    "    response = client.get_object(\"raw\", zip_path)\n",
    "    # Ler bytes do stream\n",
    "    data = response.read()\n",
    "\n",
    "    # Fechar conexão do objeto minio\n",
    "    response.close()\n",
    "    response.release_conn()\n",
    "\n",
    "    # Abrir ZIP em memória\n",
    "    zip_buffer = io.BytesIO(data)\n",
    "    with tempfile.TemporaryDirectory() as temp_dir:\n",
    "        with zipfile.ZipFile(zip_buffer) as zip_ref:\n",
    "            zip_ref.extractall(temp_dir)  # Extrai tudo para temp_dir\n",
    "            \n",
    "            files = os.listdir(temp_dir)\n",
    "            print(f\"📁 Diretório local de busca: {temp_dir}\")\n",
    "            files_return = [file for file in files if file.endswith('14.csv')]\n",
    "            print(f\"📄 Um total de {len(files_return)} arquivos foram encontrados para os filtros aplicados.\")\n",
    "            \n",
    "            # Save delta section \n",
    "            print(f\"Iniciando processo de salvar dados em Delta.\")\n",
    "            delta_save_path = f\"s3a://{bucket}/{project_name}/{datetime.now().month}_{datetime.now().year}\"\n",
    "            for csv_file in files_return:\n",
    "                print(f\"⬆️ Enviando {csv_file} no formato Delta para MinIO...\")\n",
    "                path_csv = f\"{temp_dir}/{csv_file}\"\n",
    "                folder_nome_for_csv = csv_file.split('-')[-1].replace('14.csv','')\n",
    "                delta_save_path = f\"s3a://{bucket}/{project_name}/{datetime.now().month}_{datetime.now().year}/{folder_nome_for_csv}\"\n",
    "                spark.read.csv(path_csv,header=True,inferSchema=True)\\\n",
    "                .write.format(\"parquet\").mode(\"append\").save(delta_save_path)\n",
    "\n",
    "            print(f\"✅ Arquivos salvos no MinIO\")\n",
    "            end = time.time()\n",
    "            print(f\"⏱️ Processou levou um total de {end - start:.2f} segundos.\")\n",
    "        \n"
   ]
  },
  {
   "cell_type": "code",
   "execution_count": 4,
   "id": "3813386f-0d2a-44bd-8afd-e12adb325f39",
   "metadata": {},
   "outputs": [
    {
     "name": "stdout",
     "output_type": "stream",
     "text": [
      "📁 Diretório local de busca: /tmp/tmp18rto6k5\n",
      "📄 Um total de 6 arquivos foram encontrados para os filtros aplicados.\n",
      "Iniciando processo de salvar dados em Delta.\n",
      "⬆️ Enviando uber-raw-data-jul14.csv no formato Delta para MinIO...\n",
      "⬆️ Enviando uber-raw-data-aug14.csv no formato Delta para MinIO...\n",
      "⬆️ Enviando uber-raw-data-apr14.csv no formato Delta para MinIO...\n",
      "⬆️ Enviando uber-raw-data-may14.csv no formato Delta para MinIO...\n",
      "⬆️ Enviando uber-raw-data-sep14.csv no formato Delta para MinIO...\n",
      "⬆️ Enviando uber-raw-data-jun14.csv no formato Delta para MinIO...\n",
      "✅ Arquivos salvos no MinIO\n",
      "⏱️ Processou levou um total de 28.34 segundos.\n"
     ]
    }
   ],
   "source": [
    "bucket='bronze'\n",
    "zip_path = \"raw_uber_dataset/uber-pickups-in-new-york-city.zip\"\n",
    "project_name=\"uber_dataset\"\n",
    "\n",
    "DataFrameGenerator(zip_path,bucket,project_name)"
   ]
  }
 ],
 "metadata": {
  "kernelspec": {
   "display_name": "Python 3 (ipykernel)",
   "language": "python",
   "name": "python3"
  },
  "language_info": {
   "codemirror_mode": {
    "name": "ipython",
    "version": 3
   },
   "file_extension": ".py",
   "mimetype": "text/x-python",
   "name": "python",
   "nbconvert_exporter": "python",
   "pygments_lexer": "ipython3",
   "version": "3.10.8"
  }
 },
 "nbformat": 4,
 "nbformat_minor": 5
}
