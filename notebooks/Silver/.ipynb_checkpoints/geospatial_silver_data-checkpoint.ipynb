{
 "cells": [
  {
   "cell_type": "code",
   "execution_count": 8,
   "id": "1d7f86a5-96de-43ac-a3b0-f342e5d8b26b",
   "metadata": {},
   "outputs": [],
   "source": [
    "# Adiciona a pasta raiz do projeto ao sys.path\n",
    "import sys\n",
    "if \"/home/user\" not in sys.path:\n",
    "    sys.path.append(\"/home/user\")\n",
    "from src.spark_session import create_spark_session\n",
    "spark = create_spark_session()\n",
    "\n",
    "## Importar a sessão spark criada no spark_session.py\n",
    "from minio import Minio\n",
    "from datetime import datetime\n",
    "import os"
   ]
  },
  {
   "cell_type": "code",
   "execution_count": 3,
   "id": "d4717380-171f-4099-a4ae-c714df154181",
   "metadata": {},
   "outputs": [],
   "source": [
    "path = f\"s3a://silver/geo_spatial_infos/{datetime.now().month}_{datetime.now().year}\"\n",
    "df = spark.read.format('parquet').load(path)\n",
    "df_geospatial = df.select('latitude','longitude').distinct().toPandas()"
   ]
  },
  {
   "cell_type": "code",
   "execution_count": 4,
   "id": "bf8e000d-71ee-4028-ae7e-ba4e8ff23455",
   "metadata": {},
   "outputs": [
    {
     "name": "stdout",
     "output_type": "stream",
     "text": [
      "Collecting numpy==1.26.4\n",
      "  Downloading numpy-1.26.4-cp310-cp310-manylinux_2_17_x86_64.manylinux2014_x86_64.whl (18.2 MB)\n",
      "\u001b[2K     \u001b[90m━━━━━━━━━━━━━━━━━━━━━━━━━━━━━━━━━━━━━━━━\u001b[0m \u001b[32m18.2/18.2 MB\u001b[0m \u001b[31m30.1 MB/s\u001b[0m eta \u001b[36m0:00:00\u001b[0m00:01\u001b[0m00:01\u001b[0m\n",
      "\u001b[?25hInstalling collected packages: numpy\n",
      "  Attempting uninstall: numpy\n",
      "    Found existing installation: numpy 1.23.5\n",
      "    Uninstalling numpy-1.23.5:\n",
      "      Successfully uninstalled numpy-1.23.5\n",
      "\u001b[31mERROR: pip's dependency resolver does not currently take into account all the packages that are installed. This behaviour is the source of the following dependency conflicts.\n",
      "scipy 1.9.3 requires numpy<1.26.0,>=1.18.5, but you have numpy 1.26.4 which is incompatible.\n",
      "numba 0.56.4 requires numpy<1.24,>=1.18, but you have numpy 1.26.4 which is incompatible.\u001b[0m\u001b[31m\n",
      "\u001b[0mSuccessfully installed numpy-1.26.4\n",
      "Note: you may need to restart the kernel to use updated packages.\n"
     ]
    }
   ],
   "source": [
    "pip install numpy==1.26.4"
   ]
  },
  {
   "cell_type": "code",
   "execution_count": 5,
   "id": "93b2b5d0-f758-4540-9b4b-eeaf74c4b2c9",
   "metadata": {},
   "outputs": [
    {
     "name": "stdout",
     "output_type": "stream",
     "text": [
      "Collecting geopandas\n",
      "  Downloading geopandas-1.1.1-py3-none-any.whl (338 kB)\n",
      "\u001b[2K     \u001b[90m━━━━━━━━━━━━━━━━━━━━━━━━━━━━━━━━━━━━━━━\u001b[0m \u001b[32m338.4/338.4 kB\u001b[0m \u001b[31m3.0 MB/s\u001b[0m eta \u001b[36m0:00:00\u001b[0m00:01\u001b[0m00:01\u001b[0m\n",
      "\u001b[?25hRequirement already satisfied: numpy>=1.24 in /opt/conda/lib/python3.10/site-packages (from geopandas) (1.26.4)\n",
      "Requirement already satisfied: packaging in /opt/conda/lib/python3.10/site-packages (from geopandas) (25.0)\n",
      "Collecting pandas>=2.0.0\n",
      "  Downloading pandas-2.3.3-cp310-cp310-manylinux_2_24_x86_64.manylinux_2_28_x86_64.whl (12.8 MB)\n",
      "\u001b[2K     \u001b[90m━━━━━━━━━━━━━━━━━━━━━━━━━━━━━━━━━━━━━━━━\u001b[0m \u001b[32m12.8/12.8 MB\u001b[0m \u001b[31m34.3 MB/s\u001b[0m eta \u001b[36m0:00:00\u001b[0m00:01\u001b[0m00:01\u001b[0m\n",
      "\u001b[?25hCollecting shapely>=2.0.0\n",
      "  Downloading shapely-2.1.2-cp310-cp310-manylinux2014_x86_64.manylinux_2_17_x86_64.whl (3.1 MB)\n",
      "\u001b[2K     \u001b[90m━━━━━━━━━━━━━━━━━━━━━━━━━━━━━━━━━━━━━━━━\u001b[0m \u001b[32m3.1/3.1 MB\u001b[0m \u001b[31m31.3 MB/s\u001b[0m eta \u001b[36m0:00:00\u001b[0ma \u001b[36m0:00:01\u001b[0m\n",
      "\u001b[?25hCollecting pyogrio>=0.7.2\n",
      "  Downloading pyogrio-0.11.1-cp310-cp310-manylinux_2_28_x86_64.whl (27.5 MB)\n",
      "\u001b[2K     \u001b[90m━━━━━━━━━━━━━━━━━━━━━━━━━━━━━━━━━━━━━━━━\u001b[0m \u001b[32m27.5/27.5 MB\u001b[0m \u001b[31m20.0 MB/s\u001b[0m eta \u001b[36m0:00:00\u001b[0m00:01\u001b[0m00:01\u001b[0m\n",
      "\u001b[?25hCollecting pyproj>=3.5.0\n",
      "  Downloading pyproj-3.7.1-cp310-cp310-manylinux_2_17_x86_64.manylinux2014_x86_64.whl (9.3 MB)\n",
      "\u001b[2K     \u001b[90m━━━━━━━━━━━━━━━━━━━━━━━━━━━━━━━━━━━━━━━━\u001b[0m \u001b[32m9.3/9.3 MB\u001b[0m \u001b[31m16.9 MB/s\u001b[0m eta \u001b[36m0:00:00\u001b[0m00:01\u001b[0m00:01\u001b[0m\n",
      "\u001b[?25hRequirement already satisfied: python-dateutil>=2.8.2 in /opt/conda/lib/python3.10/site-packages (from pandas>=2.0.0->geopandas) (2.8.2)\n",
      "Requirement already satisfied: tzdata>=2022.7 in /opt/conda/lib/python3.10/site-packages (from pandas>=2.0.0->geopandas) (2025.2)\n",
      "Requirement already satisfied: pytz>=2020.1 in /opt/conda/lib/python3.10/site-packages (from pandas>=2.0.0->geopandas) (2022.7)\n",
      "Requirement already satisfied: certifi in /opt/conda/lib/python3.10/site-packages (from pyogrio>=0.7.2->geopandas) (2022.12.7)\n",
      "Requirement already satisfied: six>=1.5 in /opt/conda/lib/python3.10/site-packages (from python-dateutil>=2.8.2->pandas>=2.0.0->geopandas) (1.16.0)\n",
      "Installing collected packages: shapely, pyproj, pyogrio, pandas, geopandas\n",
      "  Attempting uninstall: pandas\n",
      "    Found existing installation: pandas 1.5.2\n",
      "    Uninstalling pandas-1.5.2:\n",
      "      Successfully uninstalled pandas-1.5.2\n",
      "Successfully installed geopandas-1.1.1 pandas-2.3.3 pyogrio-0.11.1 pyproj-3.7.1 shapely-2.1.2\n"
     ]
    }
   ],
   "source": [
    "!pip install geopandas"
   ]
  },
  {
   "cell_type": "code",
   "execution_count": 23,
   "id": "66e24bc0-0b6a-463d-80a4-9f7226c9d007",
   "metadata": {},
   "outputs": [],
   "source": [
    "import tempfile\n",
    "import requests\n",
    "import zipfile\n",
    "import geopandas as gpd\n",
    "from shapely.geometry import Point\n",
    "import json\n",
    "from pyspark.sql import functions as F"
   ]
  },
  {
   "cell_type": "code",
   "execution_count": 20,
   "id": "a4cce981-930c-4b75-8a37-db4c64c2b293",
   "metadata": {},
   "outputs": [
    {
     "name": "stdout",
     "output_type": "stream",
     "text": [
      "✅ Arquivo baixado do MinIO para: /tmp/tmpl4524e23/tl_2025_us_county.zip\n",
      "📂 Arquivos extraídos em: /tmp/tmpl4524e23\n",
      "Shapefile localizado: /tmp/tmpl4524e23/tl_2025_us_county.shp\n",
      "✅ GeoDataFrame carregado com sucesso!\n"
     ]
    }
   ],
   "source": [
    "\n",
    "# Configura o cliente MinIO (mesmo de antes)\n",
    "client = Minio(\n",
    "    \"minio:9000\",\n",
    "    access_key=\"minio\",\n",
    "    secret_key=\"minio123\",\n",
    "    secure=False\n",
    ")\n",
    "\n",
    "# Dados do arquivo no MinIO\n",
    "bucket = \"raw\"\n",
    "minio_path = \"geospatial/tl_2025_us_county.zip\"\n",
    "\n",
    "# Cria diretório temporário\n",
    "with tempfile.TemporaryDirectory() as tmp_dir:\n",
    "    zip_path = os.path.join(tmp_dir, \"tl_2025_us_county.zip\")\n",
    "\n",
    "    # Baixa o ZIP do MinIO\n",
    "    client.fget_object(\n",
    "        bucket,\n",
    "        minio_path,\n",
    "        zip_path\n",
    "    )\n",
    "    print(f\"✅ Arquivo baixado do MinIO para: {zip_path}\")\n",
    "    \n",
    "    # Extrai o conteúdo do ZIP\n",
    "    with zipfile.ZipFile(zip_path, 'r') as zip_ref:\n",
    "        zip_ref.extractall(tmp_dir)\n",
    "        print(f\"📂 Arquivos extraídos em: {tmp_dir}\")\n",
    "\n",
    "    # Localiza o .shp extraído\n",
    "    shp_file = [f for f in os.listdir(tmp_dir) if f.endswith(\".shp\")]\n",
    "    if not shp_file:\n",
    "        raise FileNotFoundError(\"Nenhum arquivo .shp encontrado no ZIP extraído.\")\n",
    "    \n",
    "    shp_path = os.path.join(tmp_dir, shp_file[0])\n",
    "    print(f\"Shapefile localizado: {shp_path}\")\n",
    "\n",
    "    # Lê o shapefile com geopandas\n",
    "    gdf = gpd.read_file(shp_path)\n",
    "    print(\"✅ GeoDataFrame carregado com sucesso!\")\n",
    "\n"
   ]
  },
  {
   "cell_type": "code",
   "execution_count": 29,
   "id": "768b1ad3-b707-462e-bde2-72b791f56733",
   "metadata": {},
   "outputs": [],
   "source": [
    "# Cria uma coluna de geometria a partir das coordenadas\n",
    "geometry = [Point(xy) for xy in zip(df_geospatial['longitude'], df_geospatial['latitude'])]\n",
    "\n",
    "# Cria o GeoDataFrame com CRS WGS84 (EPSG:4326), que é o padrão GPS\n",
    "gdf_points = gpd.GeoDataFrame(df_geospatial.copy(), geometry=geometry, crs=\"EPSG:4326\")\n",
    "\n",
    "# Transforma para o mesmo CRS do GeoDataFrame do shapefile (gdf)\n",
    "gdf_points = gdf_points.to_crs(gdf.crs)\n",
    "\n",
    "# Faz o spatial join para agregar dados do shapefile aos pontos\n",
    "gdf_joined = gpd.sjoin(gdf_points, gdf, how=\"left\", predicate=\"within\")\n",
    "\n",
    "# Remove a coluna de geometria para voltar ao formato tabular\n",
    "df_enriched = gdf_joined.drop(columns='geometry')\n",
    "\n",
    "#  Seleciona as colunas que você quer no resultado final\n",
    "df_final = df_enriched[['latitude', 'longitude', 'COUNTYFP', 'NAME', 'NAMELSAD']]\n",
    "\n",
    "\n",
    "#  Converte o pandas DataFrame para JSON (orientação records - lista de dicts)\n",
    "json_records = df_final.to_json(orient='records')\n",
    "\n",
    "#  Transforma a string JSON em lista de dicionários Python\n",
    "list_of_dicts = json.loads(json_records)\n",
    "\n",
    "#  Cria o Spark DataFrame a partir da lista de dicionários\n",
    "df_spark_enriched = spark.createDataFrame(list_of_dicts).select(\n",
    "    'latitude', 'longitude',\n",
    "    F.col('COUNTYFP').alias('county_code'),\n",
    "    F.col('NAME').alias('county_name'),\n",
    "    F.col('NAMELSAD').alias('county_full_name')\n",
    ")\n",
    "\n"
   ]
  },
  {
   "cell_type": "code",
   "execution_count": 30,
   "id": "1f07d099-3009-41b3-8993-8b2e3f7ed845",
   "metadata": {},
   "outputs": [],
   "source": [
    "# Definição de como salvar os arquivos\n",
    "bucket = 'silver'\n",
    "project_name = 'geo_spatial_full'\n",
    "\n",
    "save_path = f\"s3a://{bucket}/{project_name}/{datetime.now().month}_{datetime.now().year}\"\n",
    "\n",
    "df_spark_enriched.write\\\n",
    "    .mode(\"overwrite\") \\\n",
    "    .format('delta')\\\n",
    "    .save(save_path)"
   ]
  },
  {
   "cell_type": "code",
   "execution_count": 31,
   "id": "c9d6aad8-d45a-4f2b-9c2e-a624bb94b6e0",
   "metadata": {},
   "outputs": [
    {
     "name": "stdout",
     "output_type": "stream",
     "text": [
      "Requirement already satisfied: numpy in /opt/conda/lib/python3.10/site-packages (1.26.4)\n",
      "Collecting numpy\n",
      "  Downloading numpy-2.2.6-cp310-cp310-manylinux_2_17_x86_64.manylinux2014_x86_64.whl (16.8 MB)\n",
      "\u001b[2K     \u001b[90m━━━━━━━━━━━━━━━━━━━━━━━━━━━━━━━━━━━━━━━━\u001b[0m \u001b[32m16.8/16.8 MB\u001b[0m \u001b[31m33.4 MB/s\u001b[0m eta \u001b[36m0:00:00\u001b[0m00:01\u001b[0m00:01\u001b[0m\n",
      "\u001b[?25hInstalling collected packages: numpy\n",
      "  Attempting uninstall: numpy\n",
      "    Found existing installation: numpy 1.26.4\n",
      "    Uninstalling numpy-1.26.4:\n",
      "      Successfully uninstalled numpy-1.26.4\n",
      "\u001b[31mERROR: pip's dependency resolver does not currently take into account all the packages that are installed. This behaviour is the source of the following dependency conflicts.\n",
      "scipy 1.9.3 requires numpy<1.26.0,>=1.18.5, but you have numpy 2.2.6 which is incompatible.\n",
      "numba 0.56.4 requires numpy<1.24,>=1.18, but you have numpy 2.2.6 which is incompatible.\u001b[0m\u001b[31m\n",
      "\u001b[0mSuccessfully installed numpy-2.2.6\n"
     ]
    }
   ],
   "source": [
    "!pip install --upgrade numpy"
   ]
  }
 ],
 "metadata": {
  "kernelspec": {
   "display_name": "Python 3 (ipykernel)",
   "language": "python",
   "name": "python3"
  },
  "language_info": {
   "codemirror_mode": {
    "name": "ipython",
    "version": 3
   },
   "file_extension": ".py",
   "mimetype": "text/x-python",
   "name": "python",
   "nbconvert_exporter": "python",
   "pygments_lexer": "ipython3",
   "version": "3.10.8"
  }
 },
 "nbformat": 4,
 "nbformat_minor": 5
}
