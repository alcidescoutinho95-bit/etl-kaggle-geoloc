{
 "cells": [
  {
   "cell_type": "markdown",
   "id": "c511afe0-2129-4d88-a1dd-dbccb10a7bc5",
   "metadata": {},
   "source": [
    "## Importação bibliotecas"
   ]
  },
  {
   "cell_type": "code",
   "execution_count": 1,
   "id": "f287caae-b247-4ee8-b183-c39a43c05447",
   "metadata": {},
   "outputs": [],
   "source": [
    "# Adiciona a pasta raiz do projeto ao sys.path\n",
    "import sys\n",
    "import os\n",
    "sys.path.append(os.path.abspath(os.path.join(\"..\")))\n",
    "\n",
    "## Importar a sessão spark criada no spark_session.py\n",
    "from spark_session import spark\n",
    "from minio import Minio\n",
    "from datetime import datetime"
   ]
  },
  {
   "cell_type": "markdown",
   "id": "dde579bd-4587-45f5-a95f-87a3ad8a26d3",
   "metadata": {},
   "source": [
    "## Importação dos dados e junção"
   ]
  },
  {
   "cell_type": "code",
   "execution_count": 2,
   "id": "d50d7a66-2e45-46ff-90b9-9017455aaac7",
   "metadata": {},
   "outputs": [],
   "source": [
    "base = 'A'"
   ]
  },
  {
   "cell_type": "code",
   "execution_count": 3,
   "id": "771e2641-385a-4a34-a082-06c65421ae08",
   "metadata": {},
   "outputs": [],
   "source": [
    "path_kaggle = f\"s3a://silver/uber_dataset/{datetime.now().month}_{datetime.now().year}/base_associada={base}\"\n",
    "df_kaggle = spark.read.format('delta').load(path_kaggle)\n",
    "path_geo = f\"s3a://silver/geo_spatial_full/{datetime.now().month}_{datetime.now().year}\"\n",
    "df_geo_spatial = spark.read.format('delta').load(path_geo)"
   ]
  },
  {
   "cell_type": "code",
   "execution_count": 4,
   "id": "4e6b45c6-a9c9-4ebc-ab61-18eea11af593",
   "metadata": {},
   "outputs": [],
   "source": [
    "df_classe_A = df_kaggle.join(df_geo_spatial,\n",
    "              ['latitude','longitude'],\n",
    "              how='left')"
   ]
  },
  {
   "cell_type": "markdown",
   "id": "426ed59e-9bfa-41e4-8e6d-263bc0b0cd4e",
   "metadata": {},
   "source": [
    "## Escrever dados no Banco"
   ]
  },
  {
   "cell_type": "code",
   "execution_count": 5,
   "id": "f6cfbd85-0ba6-481e-8e68-da1f08c00b46",
   "metadata": {},
   "outputs": [],
   "source": [
    "# Escrevendo no banco\n",
    "df_classe_A.write \\\n",
    "    .format(\"jdbc\") \\\n",
    "    .option(\"url\", \"jdbc:postgresql://postgres:5432/airflow\") \\\n",
    "    .option(\"dbtable\", f\"gold.base_associada_{base}\") \\\n",
    "    .option(\"user\", \"airflow\") \\\n",
    "    .option(\"password\", \"airflow\") \\\n",
    "    .option(\"driver\", \"org.postgresql.Driver\") \\\n",
    "    .mode(\"append\") \\\n",
    "    .save()"
   ]
  }
 ],
 "metadata": {
  "kernelspec": {
   "display_name": "Python 3 (ipykernel)",
   "language": "python",
   "name": "python3"
  },
  "language_info": {
   "codemirror_mode": {
    "name": "ipython",
    "version": 3
   },
   "file_extension": ".py",
   "mimetype": "text/x-python",
   "name": "python",
   "nbconvert_exporter": "python",
   "pygments_lexer": "ipython3",
   "version": "3.10.8"
  }
 },
 "nbformat": 4,
 "nbformat_minor": 5
}
